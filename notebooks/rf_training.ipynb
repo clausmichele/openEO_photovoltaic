{
 "cells": [
  {
   "cell_type": "code",
   "execution_count": 2,
   "id": "ae9c97a5-3b07-42bd-8c16-bd43239de972",
   "metadata": {
    "tags": []
   },
   "outputs": [],
   "source": [
    "import xarray as xr\n",
    "import numpy as np\n",
    "import pandas as pd\n",
    "import copy\n",
    "from glob import glob\n",
    "from shapely.geometry import box\n",
    "import geopandas as gpd\n",
    "from tqdm import tqdm\n",
    "import pickle\n",
    "import matplotlib.pyplot as plt\n",
    "from matplotlib.patches import Rectangle\n",
    "\n",
    "#sklearn\n",
    "from sklearn.model_selection import StratifiedKFold\n",
    "from sklearn.metrics import accuracy_score\n",
    "from sklearn.ensemble import RandomForestClassifier"
   ]
  },
  {
   "cell_type": "code",
   "execution_count": 7,
   "id": "61ddb929-8f6d-42de-ad14-66cec4d916f4",
   "metadata": {
    "tags": []
   },
   "outputs": [],
   "source": [
    "data_dir = '/mnt/CEPH_PROJECTS/sao/openEO_Platform'"
   ]
  },
  {
   "cell_type": "code",
   "execution_count": 8,
   "id": "663d731a-911a-4ee3-afd9-5ea78aa2b6f9",
   "metadata": {
    "tags": []
   },
   "outputs": [
    {
     "name": "stdout",
     "output_type": "stream",
     "text": [
      "Number of selected PV Farms: 4458\n"
     ]
    }
   ],
   "source": [
    "big_pv_geoms = gpd.read_file(f\"{data_dir}/germany_photovoltaic.shp\")\n",
    "print(f\"Number of selected PV Farms: {len(big_pv_geoms)}\")"
   ]
  },
  {
   "cell_type": "code",
   "execution_count": 9,
   "id": "f5ad9e21-ddef-4782-8d3b-d89755a5caa8",
   "metadata": {
    "tags": []
   },
   "outputs": [],
   "source": [
    "bands = ['B02','B03','B04',\n",
    "         'B05','B06','B07','B08',\n",
    "         'B8A', 'B11', 'B12']"
   ]
  },
  {
   "cell_type": "code",
   "execution_count": 10,
   "id": "92c7a1f4-e37a-49ea-8fda-c7288cc93ee1",
   "metadata": {
    "tags": []
   },
   "outputs": [],
   "source": [
    "def temp_s2_data(pv_farms, invert=False):\n",
    "\n",
    "    all_pixels_ts = []\n",
    "    for pv_farm in tqdm(pv_farms):\n",
    "        farm_id = int(pv_farm.split('/')[-1].split('_')[-1].split('.')[0])\n",
    "        data = xr.open_dataset(f\"{data_dir}/s2/germany/s2_2022_{farm_id}.nc\",decode_coords=\"all\")\n",
    "        crs = data.rio.crs\n",
    "        geom = big_pv_geoms.iloc[farm_id]\n",
    "\n",
    "         # Filter clouds pixels\n",
    "        cloud_mask = np.bitwise_or(np.bitwise_or((data.SCL == 8),(data.SCL == 9)),(data.SCL == 3))\n",
    "        data = data.where(~cloud_mask)  \n",
    "        data = data.drop_vars([\"SCL\",\"B01\",\"B09\"])\n",
    "        # Weekly stats\n",
    "        ds_weekly = data.median(dim=\"t\").to_dataarray()\n",
    "\n",
    "        # Crop the farm\n",
    "        geodf = gpd.GeoDataFrame(geometry=[geom[\"geometry\"]],crs=4326).to_crs(crs)\n",
    "        ds_weekly.rio.write_crs(crs, inplace=True)\n",
    "        clipped = ds_weekly.rio.clip(geodf.geometry.values, geodf.crs, drop=False, invert=invert)    \n",
    "\n",
    "        ds_np = clipped.transpose(\"y\",\"x\",\"variable\").values.reshape(len(clipped[\"y\"])*len(clipped[\"x\"]),len(clipped[\"variable\"]))\n",
    "        \n",
    "        all_pixels_ts.append(ds_np)\n",
    "    \n",
    "    samples = np.vstack(all_pixels_ts)\n",
    "    \n",
    "    return samples"
   ]
  },
  {
   "cell_type": "code",
   "execution_count": 11,
   "id": "5c583270-f752-4cbc-b8e8-c3791ec55ebc",
   "metadata": {},
   "outputs": [
    {
     "name": "stderr",
     "output_type": "stream",
     "text": [
      "100%|███████████████████████████████████████| 3687/3687 [09:01<00:00,  6.80it/s]\n"
     ]
    }
   ],
   "source": [
    "# Extract S2 data for the photvoltaic farms - pixels inside the polygons \"labels as 1\"\n",
    "pv_farms = glob(f\"{data_dir}/s2/germany/*.nc\")\n",
    "pv_samples = temp_s2_data(pv_farms)\n",
    "np.save(f'{data_dir}/s2/germany/extracted_temporal_data/pv_samples_t_median.npy', pv_samples)"
   ]
  },
  {
   "cell_type": "code",
   "execution_count": 12,
   "id": "9a47051b-b961-4ee9-b286-5f8db21cb6db",
   "metadata": {},
   "outputs": [
    {
     "name": "stderr",
     "output_type": "stream",
     "text": [
      "100%|███████████████████████████████████████| 3687/3687 [06:24<00:00,  9.58it/s]\n"
     ]
    }
   ],
   "source": [
    "non_pv_samples = temp_s2_data(pv_farms,invert=True) \n",
    "np.save(f'{data_dir}/s2/germany/extracted_temporal_data/non_pv_samples_t_median.npy', non_pv_samples)"
   ]
  },
  {
   "cell_type": "markdown",
   "id": "ab47077d-c47d-46b3-a4f0-977b66aa5c5b",
   "metadata": {},
   "source": [
    "#### Combine both PV and Non-PV togehter "
   ]
  },
  {
   "cell_type": "code",
   "execution_count": 10,
   "id": "199959f8-bb12-4c8d-8bbf-63957de7dce8",
   "metadata": {
    "tags": []
   },
   "outputs": [],
   "source": [
    "pv_samples = np.load(f'{data_dir}/s2/germany/extracted_temporal_data/pv_samples_t_median.npy')\n",
    "non_pv_samples = np.load(f'{data_dir}/s2/germany/extracted_temporal_data/non_pv_samples_t_median.npy')"
   ]
  },
  {
   "cell_type": "code",
   "execution_count": 11,
   "id": "411850f3-a649-491c-8d50-f177554cfa33",
   "metadata": {
    "tags": []
   },
   "outputs": [
    {
     "data": {
      "text/plain": [
       "(4445865, 10)"
      ]
     },
     "execution_count": 11,
     "metadata": {},
     "output_type": "execute_result"
    }
   ],
   "source": [
    "pv_samples.shape"
   ]
  },
  {
   "cell_type": "code",
   "execution_count": 15,
   "id": "2e67cf57-e53b-4bca-ac0f-093147593922",
   "metadata": {
    "tags": []
   },
   "outputs": [],
   "source": [
    "y1 = np.ones(pv_samples.shape[0])\n",
    "y0 = np.zeros(non_pv_samples.shape[0])"
   ]
  },
  {
   "cell_type": "code",
   "execution_count": 16,
   "id": "216fb660-88c8-47ec-9239-4acef10635cb",
   "metadata": {
    "tags": []
   },
   "outputs": [],
   "source": [
    "tr_data = np.vstack([pv_samples, non_pv_samples])\n",
    "y = np.hstack([y1, y0])"
   ]
  },
  {
   "cell_type": "code",
   "execution_count": 17,
   "id": "0b841829-808c-4db4-b8ac-25984f362810",
   "metadata": {
    "tags": []
   },
   "outputs": [
    {
     "name": "stdout",
     "output_type": "stream",
     "text": [
      "(8891730, 10)\n",
      "(8891730,)\n"
     ]
    }
   ],
   "source": [
    "print(tr_data.shape)\n",
    "print(y.shape)"
   ]
  },
  {
   "cell_type": "markdown",
   "id": "7d57556d-e74a-4f8b-b201-dfd1647c7237",
   "metadata": {
    "tags": []
   },
   "source": [
    "### RF training"
   ]
  },
  {
   "cell_type": "code",
   "execution_count": 18,
   "id": "8c4eabc2-3514-46d8-b0a6-bdf9c0030c2a",
   "metadata": {
    "tags": []
   },
   "outputs": [],
   "source": [
    "tr_data = np.nan_to_num(tr_data, nan=-999999)"
   ]
  },
  {
   "cell_type": "code",
   "execution_count": 26,
   "id": "5f7e1df7-e631-4bd2-af5f-5771b71d0dd0",
   "metadata": {
    "tags": []
   },
   "outputs": [
    {
     "name": "stdout",
     "output_type": "stream",
     "text": [
      "########### Fold number 1 \n",
      "Accuracy Score: 0.7634566051825685\n",
      "Average F1 Score: 0.7634566051825685\n"
     ]
    }
   ],
   "source": [
    "skf = StratifiedKFold(n_splits=5,shuffle=True, random_state=2024) # for cross validation\n",
    "\n",
    "# Creating loop for the stratified k fold\n",
    "scores = []\n",
    "i = 0\n",
    "for train, val in skf.split(tr_data, y):\n",
    "    print(f'########### Fold number {i+1} ')\n",
    "\n",
    "    # spliting the data\n",
    "    x_train, x_val = tr_data[train], tr_data[val]\n",
    "    y_train, y_val = y[train], y[val]\n",
    "    \n",
    "    clf = RandomForestClassifier(n_estimators=100, max_depth=15, random_state=2024)\n",
    "    clf.fit(x_train, y_train)\n",
    "    \n",
    "    \n",
    "    # Validation\n",
    "    y_pred = clf.predict(x_val)\n",
    "    score = accuracy_score(y_pred, y_val)\n",
    "    scores.append(score)\n",
    "    print(f'Accuracy Score: {score}')\n",
    "    \n",
    "    filename = f'../models/temporal_models/rf_{i+1}_median_depth_15.sav'\n",
    "    pickle.dump(clf, open(filename, 'wb'))\n",
    "\n",
    "    i+=1\n",
    "    break\n",
    "print(f'Average F1 Score: {np.mean(scores)}')"
   ]
  }
 ],
 "metadata": {
  "kernelspec": {
   "display_name": "Python 3 (ipykernel)",
   "language": "python",
   "name": "python3"
  },
  "language_info": {
   "codemirror_mode": {
    "name": "ipython",
    "version": 3
   },
   "file_extension": ".py",
   "mimetype": "text/x-python",
   "name": "python",
   "nbconvert_exporter": "python",
   "pygments_lexer": "ipython3",
   "version": "3.10.12"
  }
 },
 "nbformat": 4,
 "nbformat_minor": 5
}
