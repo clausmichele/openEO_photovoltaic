{
 "cells": [
  {
   "cell_type": "code",
   "execution_count": 1,
   "id": "6abd5fe4-1bad-41e4-8d06-a7a21ad9ae60",
   "metadata": {
    "tags": []
   },
   "outputs": [],
   "source": [
    "import geopandas as gpd\n",
    "import os\n",
    "import xarray as xr\n",
    "import numpy as np\n",
    "import pandas as pd\n",
    "import copy\n",
    "import pickle\n",
    "import gc\n",
    "from matplotlib.colors import ListedColormap\n",
    "import matplotlib.pyplot as plt\n",
    "#import leafmap\n",
    "import leafmap.foliumap as leafmap\n",
    "from shapely.geometry import mapping\n",
    "import pyproj\n",
    "import folium\n",
    "from glob import glob\n",
    "# sklearn\n",
    "from sklearn.model_selection import StratifiedKFold\n",
    "from sklearn.metrics import accuracy_score\n",
    "from sklearn.ensemble import RandomForestClassifier"
   ]
  },
  {
   "cell_type": "code",
   "execution_count": 2,
   "id": "85a0be5b-a2fc-4532-b5c5-e6cdfbce238e",
   "metadata": {
    "tags": []
   },
   "outputs": [],
   "source": [
    "data_dir = '/mnt/CEPH_PROJECTS/sao/openEO_Platform'"
   ]
  },
  {
   "cell_type": "code",
   "execution_count": 3,
   "id": "101773eb-5af2-4c50-ab8b-202f11b01987",
   "metadata": {
    "tags": []
   },
   "outputs": [],
   "source": [
    "pv_geoms = gpd.read_file(f\"{data_dir}/old_data/data/shapefiles/photovoltaic.shp\")"
   ]
  },
  {
   "cell_type": "code",
   "execution_count": 4,
   "id": "adb44822-500c-4838-8a3a-0ef92d3d02d8",
   "metadata": {
    "tags": []
   },
   "outputs": [
    {
     "name": "stdout",
     "output_type": "stream",
     "text": [
      "Number of selected PV Farms: 43\n"
     ]
    }
   ],
   "source": [
    "threshold_area = 5000 #m^2 ~50mx100m\n",
    "pv_geoms_32632 = pv_geoms.to_crs(32632)\n",
    "big_pv_geoms_32632 = pv_geoms_32632.where(pv_geoms_32632[\"geometry\"].area > threshold_area).dropna()\n",
    "big_pv_geoms = big_pv_geoms_32632.to_crs(4326)\n",
    "print(f\"Number of selected PV Farms: {len(big_pv_geoms)}\")"
   ]
  },
  {
   "cell_type": "code",
   "execution_count": 5,
   "id": "d9d701ef-6725-4dc1-8612-d50064901c29",
   "metadata": {
    "scrolled": true,
    "tags": []
   },
   "outputs": [],
   "source": [
    "pv_index = big_pv_geoms.index"
   ]
  },
  {
   "cell_type": "code",
   "execution_count": 6,
   "id": "67b07ae0-2059-4d42-8d31-d1e9e32f11cb",
   "metadata": {
    "tags": []
   },
   "outputs": [],
   "source": [
    "bands = ['B02','B03','B04',\n",
    "         'B05','B06','B07','B08',\n",
    "         'B8A', 'B11', 'B12']"
   ]
  },
  {
   "cell_type": "markdown",
   "id": "4deed8d6-6f06-4b8f-a31d-38447e15b082",
   "metadata": {
    "tags": []
   },
   "source": [
    "### Yearly median"
   ]
  },
  {
   "cell_type": "code",
   "execution_count": 8,
   "id": "b27598bb-1a31-4573-b460-3fe60efa9e7c",
   "metadata": {
    "tags": []
   },
   "outputs": [],
   "source": [
    "from tqdm import tqdm\n",
    "def temp_s2_data(pv_farms, invert=False):\n",
    "    \n",
    "    all_pixels_ts = []\n",
    "    for pv_farm in tqdm(pv_farms):\n",
    "        farm_id = int(pv_farm.split('/')[-1].split('_')[-1].split('.')[0])\n",
    "        #data = xr.open_dataset(f\"{data_dir}/s2/germany/s2_2022_{farm_id}.nc\",decode_coords=\"all\")\n",
    "        data = xr.open_dataset(f\"{data_dir}/old_data/data/netcdfs/S2_2022_{farm_id}.nc\",decode_coords=\"all\")\n",
    "        crs = data.rio.crs\n",
    "        geom = pv_geoms.loc[farm_id]\n",
    "         # Filter clouds pixels\n",
    "        cloud_mask = np.bitwise_or(np.bitwise_or((data.SCL == 8),(data.SCL == 9)),(data.SCL == 3))\n",
    "        data = data.where(~cloud_mask)  \n",
    "        data = data.drop_vars([\"SCL\",\"B01\"])\n",
    "\n",
    "        yearly_median = data.median(dim=\"t\").to_dataarray()\n",
    "\n",
    "        # Crop the farm\n",
    "        geodf = gpd.GeoDataFrame(geometry=[geom[\"geometry\"]],crs=4326).to_crs(crs)\n",
    "        yearly_median.rio.write_crs(crs, inplace=True)\n",
    "        clipped = yearly_median.rio.clip(geodf.geometry.values, geodf.crs, drop=False, invert=invert)    \n",
    "\n",
    "        ds_np = clipped.transpose(\"y\",\"x\",\"variable\").values.reshape(len(clipped[\"y\"])*len(clipped[\"x\"]),len(clipped[\"variable\"]))\n",
    "        \n",
    "        all_pixels_ts.append(ds_np)\n",
    "    \n",
    "    samples = np.vstack(all_pixels_ts)\n",
    "    \n",
    "    return samples"
   ]
  },
  {
   "cell_type": "code",
   "execution_count": 9,
   "id": "a05495d1-f7b3-4dfb-9668-dc3274e5a712",
   "metadata": {
    "scrolled": true,
    "tags": []
   },
   "outputs": [
    {
     "name": "stderr",
     "output_type": "stream",
     "text": [
      "100%|███████████████████████████████████████████| 42/42 [00:03<00:00, 11.77it/s]\n",
      "100%|███████████████████████████████████████████| 42/42 [00:02<00:00, 18.23it/s]\n"
     ]
    }
   ],
   "source": [
    "pv_farms = glob(f\"{data_dir}/old_data/data/netcdfs/*.nc\")\n",
    "pv_samples = temp_s2_data(pv_farms)\n",
    "non_pv_samples = temp_s2_data(pv_farms,invert=True)"
   ]
  },
  {
   "cell_type": "code",
   "execution_count": 10,
   "id": "2fdefd16-632e-4053-bc13-78f200b48aaa",
   "metadata": {
    "tags": []
   },
   "outputs": [],
   "source": [
    "y1 = np.ones(pv_samples.shape[0])\n",
    "y0 = np.zeros(non_pv_samples.shape[0])\n",
    "\n",
    "te_samples = np.vstack([pv_samples, non_pv_samples])\n",
    "te_samples = np.nan_to_num(te_samples, nan=-999999)\n",
    "\n",
    "y_test = np.hstack([y1, y0])"
   ]
  },
  {
   "cell_type": "code",
   "execution_count": 12,
   "id": "594b8285-4828-43c5-abe4-a2fb1dcba06e",
   "metadata": {
    "tags": []
   },
   "outputs": [],
   "source": [
    "import pickle\n",
    "import urllib.request\n",
    "with open(\"/home/mclaus@eurac.edu/openEO_photovoltaic/models/temporal_models/rf_1_median_depth_15.sav\",\"rb\") as f:\n",
    "    clf = pickle.load(f)"
   ]
  },
  {
   "cell_type": "code",
   "execution_count": 13,
   "id": "4e72b91d-7f0a-455f-a48c-a79dc5d37983",
   "metadata": {
    "tags": []
   },
   "outputs": [
    {
     "name": "stdout",
     "output_type": "stream",
     "text": [
      "Test Accuracy Score: 0.7421523992092494\n"
     ]
    }
   ],
   "source": [
    "te_pred = clf.predict(te_samples)\n",
    "test_score = accuracy_score(te_pred, y_test)\n",
    "print(f'Test Accuracy Score: {test_score}')"
   ]
  },
  {
   "cell_type": "code",
   "execution_count": 14,
   "id": "9ccb33d5-ab64-4e96-9948-669ea17c0e00",
   "metadata": {
    "tags": []
   },
   "outputs": [
    {
     "name": "stdout",
     "output_type": "stream",
     "text": [
      "Test Accuracy Score for PV pixels: 0.8027616366141497\n"
     ]
    }
   ],
   "source": [
    "te_pv_samples = np.nan_to_num(pv_samples, nan=-999999)\n",
    "\n",
    "te_pred = clf.predict(te_pv_samples)\n",
    "\n",
    "test_score = accuracy_score(te_pred, y1)\n",
    "print(f'Test Accuracy Score for PV pixels: {test_score}')"
   ]
  }
 ],
 "metadata": {
  "kernelspec": {
   "display_name": "Python 3 (ipykernel)",
   "language": "python",
   "name": "python3"
  },
  "language_info": {
   "codemirror_mode": {
    "name": "ipython",
    "version": 3
   },
   "file_extension": ".py",
   "mimetype": "text/x-python",
   "name": "python",
   "nbconvert_exporter": "python",
   "pygments_lexer": "ipython3",
   "version": "3.10.12"
  }
 },
 "nbformat": 4,
 "nbformat_minor": 5
}
