{
 "cells": [
  {
   "cell_type": "code",
   "execution_count": null,
   "id": "f46d2dd5-c6b5-4d53-ac04-5699aa26ed1a",
   "metadata": {
    "tags": []
   },
   "outputs": [],
   "source": [
    "from raster2stac import Raster2STAC\n",
    "import xarray as xr\n",
    "import rioxarray\n",
    "import os\n",
    "import numpy as np\n",
    "\n",
    "# We assign a datetime to the dataset, otherwise we can't index it in STAC\n",
    "data = xr.open_dataset(\"/mnt/CEPH_PROJECTS/sao/openEO_Platform/s2/germany/patches_median/s2_2023_1747_2054_2055_2056_2057_2058_2059_2060_2061_2062_2063_2064_2065_2066_2067_2068_2069_2070_2071_2072_2073_2074_2075_2076_2077_2078_2079_2080_2081_2082_2083_2084_2085_2086_2087_2088_2294_2295.nc\",decode_coords=\"all\")\n",
    "crs = data.rio.crs\n",
    "data = data.expand_dims(dim={\"t\":[np.datetime64(\"2023-01-01\",\"ns\")]}).to_dataarray(\"bands\")\n",
    "data = data.rio.write_crs(crs)\n",
    "\n",
    "rs2stac = Raster2STAC(\n",
    "    data = data, # The netCDF which will be converted into COGs\n",
    "    title = \"Dataset for the Photo-Voltaic Farms (PV Farms) mapping project of openEO Platform\",\n",
    "    description = \"This dataset will include the necessary data to reproduce the results of the the Photo-Voltaic Farms (PV Farms) mapping project of openEO Platform. It will include Sentinel-2 data for areas in Germany where PV farms are located, along with the LCLU (Land Cover Land Use) layer. It also includes the vector data specifying where the PV farms geometry is located.\",\n",
    "    keywords = [\"PV\", \"SOLAR\", \"openEO\", \"Sentinel-2\"],\n",
    "    providers=[\n",
    "        {\n",
    "          \"name\": \"VITO\",\n",
    "          \"roles\": [\n",
    "            \"processor\"\n",
    "          ],\n",
    "          \"description\": \"This data was processed on an openEO backend maintained by VITO.\"\n",
    "        },\n",
    "        {\n",
    "            \"url\": \"http://www.eurac.edu\",\n",
    "            \"name\": \"Eurac Research - Institute for Earth Observation\",\n",
    "            \"roles\": [\n",
    "                \"host\"\n",
    "            ]\n",
    "        }\n",
    "    ],\n",
    "    license=\"CC-BY-4.0\",\n",
    "    collection_id = \"PV_FARMS_MAPPING_DATASET\", # The Collection id we want to set\n",
    "    collection_url = \"https://stac.eurac.edu/collections/\", # The URL where the collection will be exposed\n",
    "    output_folder = \"PV_FARMS_MAPPING_DATASET\",\n",
    "    write_collection_assets = False\n",
    ").generate_cog_stac()"
   ]
  },
  {
   "cell_type": "code",
   "execution_count": null,
   "id": "c40cbe21-07cd-44dd-af34-409c034ae75c",
   "metadata": {},
   "outputs": [],
   "source": []
  }
 ],
 "metadata": {
  "kernelspec": {
   "display_name": "Python 3 (ipykernel)",
   "language": "python",
   "name": "python3"
  },
  "language_info": {
   "codemirror_mode": {
    "name": "ipython",
    "version": 3
   },
   "file_extension": ".py",
   "mimetype": "text/x-python",
   "name": "python",
   "nbconvert_exporter": "python",
   "pygments_lexer": "ipython3",
   "version": "3.10.12"
  }
 },
 "nbformat": 4,
 "nbformat_minor": 5
}
