{
 "cells": [
  {
   "cell_type": "markdown",
   "id": "5409400f",
   "metadata": {},
   "source": [
    "# ONNX Conversion \n",
    "\n",
    "This notebook demonstrates how to convert a trained model to the openEO supported ONNX format.\n",
    "New models must be uploaded on the VITO artifactory in order to be accesible for openEO"
   ]
  },
  {
   "cell_type": "code",
   "execution_count": null,
   "id": "9f7e6731",
   "metadata": {
    "tags": []
   },
   "outputs": [],
   "source": [
    "import pickle\n",
    "import urllib.request\n",
    "from utils import *\n",
    "\n",
    "#provide the required information on the input size\n",
    "n_bands = 10\n",
    "\n",
    "input_shape = (None, n_bands) \n",
    "output_folder = \"./openEO_photovoltaic\"\n",
    "model_url = \"./rf_1_median_depth_15.sav\"\n",
    "convert_local_sklearn_to_onnx(model_url, input_shape, \"rf_1_median_depth_15.onnx\")"
   ]
  }
 ],
 "metadata": {
  "kernelspec": {
   "display_name": "Python 3 (ipykernel)",
   "language": "python",
   "name": "python3"
  },
  "language_info": {
   "codemirror_mode": {
    "name": "ipython",
    "version": 3
   },
   "file_extension": ".py",
   "mimetype": "text/x-python",
   "name": "python",
   "nbconvert_exporter": "python",
   "pygments_lexer": "ipython3",
   "version": "3.10.12"
  }
 },
 "nbformat": 4,
 "nbformat_minor": 5
}
