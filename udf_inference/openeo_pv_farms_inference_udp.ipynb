{
 "cells": [
  {
   "cell_type": "markdown",
   "metadata": {},
   "source": [
    "# UDP creation for model inference using openEO\n",
    "\n",
    "This notebook demonstrates how to use create a sharable UDP.\n",
    "First we establish a connection and load in he required libraries"
   ]
  },
  {
   "cell_type": "code",
   "execution_count": 1,
   "metadata": {},
   "outputs": [
    {
     "name": "stdout",
     "output_type": "stream",
     "text": [
      "Authenticated using refresh token.\n"
     ]
    }
   ],
   "source": [
    "import json\n",
    "import openeo\n",
    "from urllib.parse import urljoin\n",
    "from openeo.api.process import Parameter\n",
    "from openeo.rest.udp import build_process_dict\n",
    "from utils import preprocess_sentinel2_data, postprocess_inference_data\n",
    "\n",
    "\n",
    "#establish connection\n",
    "#conn = openeo.connect(\"https://openeo.cloud/\").authenticate_oidc()\n",
    "conn = openeo.connect(\"https://openeo.dataspace.copernicus.eu/\").authenticate_oidc()"
   ]
  },
  {
   "cell_type": "markdown",
   "metadata": {},
   "source": [
    "Create the process graph\n",
    "\n",
    "Changeable parameters include; the spatial extend, the temporal extend and the model url."
   ]
  },
  {
   "cell_type": "code",
   "execution_count": 2,
   "metadata": {},
   "outputs": [],
   "source": [
    "spatial_extent_param = Parameter(\n",
    "    name=\"spatial_extend\",\n",
    "    description=\"The bounding box to load.\",\n",
    "    schema={\n",
    "    \"type\": \"object\",\n",
    "    \"properties\": {\n",
    "        \"west\": {\"type\": \"number\"},\n",
    "        \"south\": {\"type\": \"number\"},\n",
    "        \"east\": {\"type\": \"number\"},\n",
    "        \"north\": {\"type\": \"number\"},\n",
    "        \"crs\": {\"type\": \"string\"}\n",
    "    }\n",
    "},\n",
    ")\n",
    "\n",
    "temporal_extent = Parameter(\n",
    "    name=\"temporal_extent\",\n",
    "    description=\"The date range to calculate the temporal mean for.\",\n",
    "    schema={\"type\": \"array\", \"subtype\": \"temporal-interval\"},\n",
    "    default =[\"2023-05-01\", \"2023-09-30\"])\n",
    "\n",
    "inference_url_param = Parameter.string(\n",
    "    name=\"inference_url\",\n",
    "    default=\"https://artifactory.vgt.vito.be/artifactory/auxdata-public/photovoltaic/rf_1_median_depth_15.onnx\",\n",
    "    description=\"url to the inference network, must be on VITO artifactory\",\n",
    ")"
   ]
  },
  {
   "cell_type": "markdown",
   "metadata": {},
   "source": [
    "Create the processing graph"
   ]
  },
  {
   "cell_type": "code",
   "execution_count": 3,
   "metadata": {},
   "outputs": [],
   "source": [
    "from utils import preprocess_sentinel2_data, postprocess_inference_data\n",
    "\n",
    "s2_cube = preprocess_sentinel2_data(conn,  spatial_extent_param, temporal_extent)\n",
    "\n",
    "# Supply the model as a URL. The model is stored in artifactory\n",
    "udf = openeo.UDF.from_file(\n",
    "    \"udf_rf_onnx.py\", \n",
    "    context={\n",
    "        \"model_url\": inference_url_param\n",
    "    }\n",
    ")\n",
    "\n",
    "# Reduce the bands dimension using the inference udf\n",
    "prediction = s2_cube.reduce_bands(reducer=udf)\n",
    "prediction_filtered = postprocess_inference_data(prediction, 3) "
   ]
  },
  {
   "cell_type": "markdown",
   "metadata": {},
   "source": [
    "Store the process graph on the back-end and locally"
   ]
  },
  {
   "cell_type": "code",
   "execution_count": 4,
   "metadata": {},
   "outputs": [
    {
     "name": "stderr",
     "output_type": "stream",
     "text": [
      "Preflight process graph validation raised: [ProcessParameterRequired] Process 'n/a' parameter 'spatial_extend' is required.\n"
     ]
    }
   ],
   "source": [
    "#provide a UDP ID:\n",
    "UDP_ID = \"pv_inference\"\n",
    "\n",
    "#save the graph on the back-end\n",
    "conn.save_user_defined_process(\n",
    "    user_defined_process_id=UDP_ID,\n",
    "    process_graph=prediction,\n",
    "    parameters=[spatial_extent_param, temporal_extent, inference_url_param]\n",
    ")\n",
    "\n",
    "#save it locally as a JSON\n",
    "spec = build_process_dict(\n",
    "    process_id=UDP_ID,\n",
    "    process_graph=prediction,\n",
    "    parameters=[spatial_extent_param, temporal_extent, inference_url_param]\n",
    "\n",
    ")\n",
    "with open(\"pv_inference.json\", \"w\") as f:\n",
    "    json.dump(spec, f, indent=2)"
   ]
  },
  {
   "cell_type": "markdown",
   "metadata": {},
   "source": [
    "# Example on UDP excecution\n",
    "\n",
    "Add the onnx dependencies to the job options. Provide parameters\n",
    "Excecute the batch job."
   ]
  },
  {
   "cell_type": "code",
   "execution_count": 7,
   "metadata": {},
   "outputs": [
    {
     "name": "stderr",
     "output_type": "stream",
     "text": [
      "Preflight process graph validation raised: [ProcessUnsupported] Process with identifier 'pv_inference' is not available in namespace 'backend'.\n"
     ]
    },
    {
     "name": "stdout",
     "output_type": "stream",
     "text": [
      "0:00:00 Job 'j-240405f5fd834417925032d721c5ea59': send 'start'\n",
      "0:00:16 Job 'j-240405f5fd834417925032d721c5ea59': created (progress N/A)\n",
      "0:00:21 Job 'j-240405f5fd834417925032d721c5ea59': created (progress N/A)\n",
      "0:00:28 Job 'j-240405f5fd834417925032d721c5ea59': created (progress N/A)\n",
      "0:00:36 Job 'j-240405f5fd834417925032d721c5ea59': created (progress N/A)\n",
      "0:00:46 Job 'j-240405f5fd834417925032d721c5ea59': created (progress N/A)\n",
      "0:00:59 Job 'j-240405f5fd834417925032d721c5ea59': running (progress N/A)\n",
      "0:01:15 Job 'j-240405f5fd834417925032d721c5ea59': running (progress N/A)\n",
      "0:01:35 Job 'j-240405f5fd834417925032d721c5ea59': running (progress N/A)\n",
      "0:01:59 Job 'j-240405f5fd834417925032d721c5ea59': running (progress N/A)\n",
      "0:02:29 Job 'j-240405f5fd834417925032d721c5ea59': running (progress N/A)\n",
      "0:03:07 Job 'j-240405f5fd834417925032d721c5ea59': running (progress N/A)\n",
      "0:03:54 Job 'j-240405f5fd834417925032d721c5ea59': running (progress N/A)\n",
      "0:04:52 Job 'j-240405f5fd834417925032d721c5ea59': error (progress N/A)\n",
      "Your batch job 'j-240405f5fd834417925032d721c5ea59' failed. Error logs:\n",
      "[{'id': '[1712311876637, 146240]', 'time': '2024-04-05T10:11:16.637Z', 'level': 'error', 'message': 'Error communicating with MapOutputTracker'}, {'id': '[1712311877206, 709502]', 'time': '2024-04-05T10:11:17.206Z', 'level': 'error', 'message': 'Error communicating with MapOutputTracker'}, {'id': '[1712311890738, 32503]', 'time': '2024-04-05T10:11:30.738Z', 'level': 'error', 'message': 'Task 0 in stage 10.0 failed 4 times; aborting job'}, {'id': '[1712311892246, 83751]', 'time': '2024-04-05T10:11:32.246Z', 'level': 'error', 'message': 'OpenEO batch job failed: UDF Exception during Spark execution:   File \"/opt/openeo/lib/python3.8/site-packages/openeo/udf/run_code.py\", line 149, in run_udf_code\\n    module = load_module_from_string(code)\\n  File \"/opt/openeo/lib/python3.8/site-packages/openeo/udf/run_code.py\", line 60, in load_module_from_string\\n    exec(code, globals)\\n  File \"<string>\", line 11, in <module>\\nModuleNotFoundError: No module named \\'onnxruntime\\''}]\n",
      "Full logs can be inspected in an openEO (web) editor or with `connection.job('j-240405f5fd834417925032d721c5ea59').logs()`.\n"
     ]
    },
    {
     "ename": "JobFailedException",
     "evalue": "Batch job 'j-240405f5fd834417925032d721c5ea59' didn't finish successfully. Status: error (after 0:04:53).",
     "output_type": "error",
     "traceback": [
      "\u001b[1;31m---------------------------------------------------------------------------\u001b[0m",
      "\u001b[1;31mJobFailedException\u001b[0m                        Traceback (most recent call last)",
      "Cell \u001b[1;32mIn[7], line 20\u001b[0m\n\u001b[0;32m      5\u001b[0m job_options \u001b[38;5;241m=\u001b[39m {\n\u001b[0;32m      6\u001b[0m     \u001b[38;5;124m\"\u001b[39m\u001b[38;5;124mudf-dependency-archives\u001b[39m\u001b[38;5;124m\"\u001b[39m: [\n\u001b[0;32m      7\u001b[0m         full_url\n\u001b[0;32m      8\u001b[0m     ],\n\u001b[0;32m      9\u001b[0m }\n\u001b[0;32m     11\u001b[0m inference_result \u001b[38;5;241m=\u001b[39m conn\u001b[38;5;241m.\u001b[39mdatacube_from_process(\n\u001b[0;32m     12\u001b[0m     process_id\u001b[38;5;241m=\u001b[39mUDP_ID,\n\u001b[0;32m     13\u001b[0m     spatial_extend\u001b[38;5;241m=\u001b[39m{\u001b[38;5;124m\"\u001b[39m\u001b[38;5;124mwest\u001b[39m\u001b[38;5;124m\"\u001b[39m: \u001b[38;5;241m12.17\u001b[39m,\n\u001b[1;32m   (...)\u001b[0m\n\u001b[0;32m     17\u001b[0m     temporal_extend \u001b[38;5;241m=\u001b[39m [\u001b[38;5;124m\"\u001b[39m\u001b[38;5;124m2023-05-01\u001b[39m\u001b[38;5;124m\"\u001b[39m, \u001b[38;5;124m\"\u001b[39m\u001b[38;5;124m2023-09-30\u001b[39m\u001b[38;5;124m\"\u001b[39m],\n\u001b[0;32m     18\u001b[0m     inference_url \u001b[38;5;241m=\u001b[39m \u001b[38;5;124m\"\u001b[39m\u001b[38;5;124mhttps://artifactory.vgt.vito.be/artifactory/auxdata-public/photovoltaic/rf_1_median_depth_15.onnx\u001b[39m\u001b[38;5;124m\"\u001b[39m)\n\u001b[1;32m---> 20\u001b[0m \u001b[43minference_result\u001b[49m\u001b[38;5;241;43m.\u001b[39;49m\u001b[43mexecute_batch\u001b[49m\u001b[43m(\u001b[49m\n\u001b[0;32m     21\u001b[0m \u001b[43m    \u001b[49m\u001b[38;5;124;43m\"\u001b[39;49m\u001b[38;5;124;43m./photovoltaic_prediction.nc\u001b[39;49m\u001b[38;5;124;43m\"\u001b[39;49m\u001b[43m,\u001b[49m\n\u001b[0;32m     22\u001b[0m \u001b[43m    \u001b[49m\u001b[43mjob_options\u001b[49m\u001b[38;5;241;43m=\u001b[39;49m\u001b[43mjob_options\u001b[49m\u001b[43m,\u001b[49m\n\u001b[0;32m     23\u001b[0m \u001b[43m    \u001b[49m\u001b[43mtitle\u001b[49m\u001b[38;5;241;43m=\u001b[39;49m\u001b[38;5;124;43m\"\u001b[39;49m\u001b[38;5;124;43mphotovoltaic_prediction\u001b[39;49m\u001b[38;5;124;43m\"\u001b[39;49m\n\u001b[0;32m     24\u001b[0m \u001b[43m)\u001b[49m\n",
      "File \u001b[1;32mc:\\Users\\VROMPAYH\\AppData\\Local\\anaconda3\\envs\\pv_openeo\\lib\\site-packages\\openeo\\rest\\datacube.py:2227\u001b[0m, in \u001b[0;36mDataCube.execute_batch\u001b[1;34m(self, outputfile, out_format, print, max_poll_interval, connection_retry_interval, job_options, validate, **format_options)\u001b[0m\n\u001b[0;32m   2224\u001b[0m     out_format \u001b[38;5;241m=\u001b[39m guess_format(outputfile)\n\u001b[0;32m   2226\u001b[0m job \u001b[38;5;241m=\u001b[39m \u001b[38;5;28mself\u001b[39m\u001b[38;5;241m.\u001b[39mcreate_job(out_format\u001b[38;5;241m=\u001b[39mout_format, job_options\u001b[38;5;241m=\u001b[39mjob_options, validate\u001b[38;5;241m=\u001b[39mvalidate, \u001b[38;5;241m*\u001b[39m\u001b[38;5;241m*\u001b[39mformat_options)\n\u001b[1;32m-> 2227\u001b[0m \u001b[38;5;28;01mreturn\u001b[39;00m \u001b[43mjob\u001b[49m\u001b[38;5;241;43m.\u001b[39;49m\u001b[43mrun_synchronous\u001b[49m\u001b[43m(\u001b[49m\n\u001b[0;32m   2228\u001b[0m \u001b[43m    \u001b[49m\u001b[43moutputfile\u001b[49m\u001b[38;5;241;43m=\u001b[39;49m\u001b[43moutputfile\u001b[49m\u001b[43m,\u001b[49m\n\u001b[0;32m   2229\u001b[0m \u001b[43m    \u001b[49m\u001b[38;5;28;43mprint\u001b[39;49m\u001b[38;5;241;43m=\u001b[39;49m\u001b[38;5;28;43mprint\u001b[39;49m\u001b[43m,\u001b[49m\u001b[43m \u001b[49m\u001b[43mmax_poll_interval\u001b[49m\u001b[38;5;241;43m=\u001b[39;49m\u001b[43mmax_poll_interval\u001b[49m\u001b[43m,\u001b[49m\u001b[43m \u001b[49m\u001b[43mconnection_retry_interval\u001b[49m\u001b[38;5;241;43m=\u001b[39;49m\u001b[43mconnection_retry_interval\u001b[49m\n\u001b[0;32m   2230\u001b[0m \u001b[43m\u001b[49m\u001b[43m)\u001b[49m\n",
      "File \u001b[1;32mc:\\Users\\VROMPAYH\\AppData\\Local\\anaconda3\\envs\\pv_openeo\\lib\\site-packages\\openeo\\rest\\job.py:239\u001b[0m, in \u001b[0;36mBatchJob.run_synchronous\u001b[1;34m(self, outputfile, print, max_poll_interval, connection_retry_interval)\u001b[0m\n\u001b[0;32m    234\u001b[0m \u001b[38;5;28;01mdef\u001b[39;00m \u001b[38;5;21mrun_synchronous\u001b[39m(\n\u001b[0;32m    235\u001b[0m         \u001b[38;5;28mself\u001b[39m, outputfile: Union[\u001b[38;5;28mstr\u001b[39m, Path, \u001b[38;5;28;01mNone\u001b[39;00m] \u001b[38;5;241m=\u001b[39m \u001b[38;5;28;01mNone\u001b[39;00m,\n\u001b[0;32m    236\u001b[0m         \u001b[38;5;28mprint\u001b[39m\u001b[38;5;241m=\u001b[39m\u001b[38;5;28mprint\u001b[39m, max_poll_interval\u001b[38;5;241m=\u001b[39m\u001b[38;5;241m60\u001b[39m, connection_retry_interval\u001b[38;5;241m=\u001b[39m\u001b[38;5;241m30\u001b[39m\n\u001b[0;32m    237\u001b[0m ) \u001b[38;5;241m-\u001b[39m\u001b[38;5;241m>\u001b[39m BatchJob:\n\u001b[0;32m    238\u001b[0m \u001b[38;5;250m    \u001b[39m\u001b[38;5;124;03m\"\"\"Start the job, wait for it to finish and download result\"\"\"\u001b[39;00m\n\u001b[1;32m--> 239\u001b[0m     \u001b[38;5;28;43mself\u001b[39;49m\u001b[38;5;241;43m.\u001b[39;49m\u001b[43mstart_and_wait\u001b[49m\u001b[43m(\u001b[49m\n\u001b[0;32m    240\u001b[0m \u001b[43m        \u001b[49m\u001b[38;5;28;43mprint\u001b[39;49m\u001b[38;5;241;43m=\u001b[39;49m\u001b[38;5;28;43mprint\u001b[39;49m\u001b[43m,\u001b[49m\u001b[43m \u001b[49m\u001b[43mmax_poll_interval\u001b[49m\u001b[38;5;241;43m=\u001b[39;49m\u001b[43mmax_poll_interval\u001b[49m\u001b[43m,\u001b[49m\u001b[43m \u001b[49m\u001b[43mconnection_retry_interval\u001b[49m\u001b[38;5;241;43m=\u001b[39;49m\u001b[43mconnection_retry_interval\u001b[49m\n\u001b[0;32m    241\u001b[0m \u001b[43m    \u001b[49m\u001b[43m)\u001b[49m\n\u001b[0;32m    242\u001b[0m     \u001b[38;5;66;03m# TODO #135 support multi file result sets too?\u001b[39;00m\n\u001b[0;32m    243\u001b[0m     \u001b[38;5;28;01mif\u001b[39;00m outputfile \u001b[38;5;129;01mis\u001b[39;00m \u001b[38;5;129;01mnot\u001b[39;00m \u001b[38;5;28;01mNone\u001b[39;00m:\n",
      "File \u001b[1;32mc:\\Users\\VROMPAYH\\AppData\\Local\\anaconda3\\envs\\pv_openeo\\lib\\site-packages\\openeo\\rest\\job.py:321\u001b[0m, in \u001b[0;36mBatchJob.start_and_wait\u001b[1;34m(self, print, max_poll_interval, connection_retry_interval, soft_error_max)\u001b[0m\n\u001b[0;32m    317\u001b[0m     \u001b[38;5;28mprint\u001b[39m(\u001b[38;5;28mself\u001b[39m\u001b[38;5;241m.\u001b[39mlogs(level\u001b[38;5;241m=\u001b[39mlogging\u001b[38;5;241m.\u001b[39mERROR))\n\u001b[0;32m    318\u001b[0m     \u001b[38;5;28mprint\u001b[39m(\n\u001b[0;32m    319\u001b[0m         \u001b[38;5;124mf\u001b[39m\u001b[38;5;124m\"\u001b[39m\u001b[38;5;124mFull logs can be inspected in an openEO (web) editor or with `connection.job(\u001b[39m\u001b[38;5;132;01m{\u001b[39;00m\u001b[38;5;28mself\u001b[39m\u001b[38;5;241m.\u001b[39mjob_id\u001b[38;5;132;01m!r}\u001b[39;00m\u001b[38;5;124m).logs()`.\u001b[39m\u001b[38;5;124m\"\u001b[39m\n\u001b[0;32m    320\u001b[0m     )\n\u001b[1;32m--> 321\u001b[0m     \u001b[38;5;28;01mraise\u001b[39;00m JobFailedException(\n\u001b[0;32m    322\u001b[0m         \u001b[38;5;124mf\u001b[39m\u001b[38;5;124m\"\u001b[39m\u001b[38;5;124mBatch job \u001b[39m\u001b[38;5;132;01m{\u001b[39;00m\u001b[38;5;28mself\u001b[39m\u001b[38;5;241m.\u001b[39mjob_id\u001b[38;5;132;01m!r}\u001b[39;00m\u001b[38;5;124m didn\u001b[39m\u001b[38;5;124m'\u001b[39m\u001b[38;5;124mt finish successfully. Status: \u001b[39m\u001b[38;5;132;01m{\u001b[39;00mstatus\u001b[38;5;132;01m}\u001b[39;00m\u001b[38;5;124m (after \u001b[39m\u001b[38;5;132;01m{\u001b[39;00melapsed()\u001b[38;5;132;01m}\u001b[39;00m\u001b[38;5;124m).\u001b[39m\u001b[38;5;124m\"\u001b[39m,\n\u001b[0;32m    323\u001b[0m         job\u001b[38;5;241m=\u001b[39m\u001b[38;5;28mself\u001b[39m,\n\u001b[0;32m    324\u001b[0m     )\n\u001b[0;32m    326\u001b[0m \u001b[38;5;28;01mreturn\u001b[39;00m \u001b[38;5;28mself\u001b[39m\n",
      "\u001b[1;31mJobFailedException\u001b[0m: Batch job 'j-240405f5fd834417925032d721c5ea59' didn't finish successfully. Status: error (after 0:04:53)."
     ]
    }
   ],
   "source": [
    "dependencies_url = \"https://artifactory.vgt.vito.be/artifactory/auxdata-public/openeo/onnx_dependencies_1.16.3.zip\"\n",
    "dependencies_name = \"onnx_deps\"\n",
    "full_url = urljoin(dependencies_url, f\"#{dependencies_name}\")\n",
    "\n",
    "job_options = {\n",
    "    \"udf-dependency-archives\": [\n",
    "        full_url\n",
    "    ],\n",
    "}\n",
    "\n",
    "inference_result = conn.datacube_from_process(\n",
    "    process_id=UDP_ID,\n",
    "    spatial_extend={\"west\": 12.17,\n",
    "                    \"east\": 12.18,\n",
    "                    \"south\": 51.46,\n",
    "                    \"north\": 51.47},\n",
    "    temporal_extend = [\"2023-05-01\", \"2023-09-30\"],\n",
    "    inference_url = \"https://artifactory.vgt.vito.be/artifactory/auxdata-public/photovoltaic/rf_1_median_depth_15.onnx\")\n",
    "\n",
    "inference_result.execute_batch(\n",
    "    \"./photovoltaic_prediction.nc\",\n",
    "    job_options=job_options,\n",
    "    title=\"photovoltaic_prediction\"\n",
    ")"
   ]
  }
 ],
 "metadata": {
  "kernelspec": {
   "display_name": "Python 3",
   "language": "python",
   "name": "python3"
  },
  "language_info": {
   "codemirror_mode": {
    "name": "ipython",
    "version": 3
   },
   "file_extension": ".py",
   "mimetype": "text/x-python",
   "name": "python",
   "nbconvert_exporter": "python",
   "pygments_lexer": "ipython3",
   "version": "3.8.19"
  }
 },
 "nbformat": 4,
 "nbformat_minor": 2
}
