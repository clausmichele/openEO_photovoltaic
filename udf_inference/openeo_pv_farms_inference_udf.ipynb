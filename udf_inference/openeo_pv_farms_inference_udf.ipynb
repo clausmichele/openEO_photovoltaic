{
 "cells": [
  {
   "cell_type": "markdown",
   "id": "ae568901",
   "metadata": {},
   "source": [
    "# Inference with the model on openEO\n",
    "\n",
    "This notebook demonstrates how to use a trained model for inference with onnxruntime in an udf."
   ]
  },
  {
   "cell_type": "code",
   "execution_count": 1,
   "id": "4fd8fe29",
   "metadata": {
    "tags": []
   },
   "outputs": [
    {
     "name": "stdout",
     "output_type": "stream",
     "text": [
      "Authenticated using refresh token.\n"
     ]
    }
   ],
   "source": [
    "# Make the connection and authenticate\n",
    "import openeo\n",
    "from utils import preprocess_sentinel2_data, postprocess_inference_data\n",
    "from urllib.parse import urljoin\n",
    "\n",
    "\n",
    "#Choose preferred backend\n",
    "#conn = openeo.connect(\"https://openeo.cloud/\").authenticate_oidc()\n",
    "conn = openeo.connect(\"https://openeo.dataspace.copernicus.eu/\").authenticate_oidc()\n"
   ]
  },
  {
   "cell_type": "markdown",
   "id": "01e7cb3d",
   "metadata": {},
   "source": [
    "A workflow for processing Sentinel-2 Level-2A earth observation data using openEO in orden to obtain the desired data, compatible with the classifier\n"
   ]
  },
  {
   "cell_type": "code",
   "execution_count": 2,
   "id": "be278dd3-b961-4340-a41b-bdc6ca6a4227",
   "metadata": {
    "tags": []
   },
   "outputs": [],
   "source": [
    "spatial_extent = {\n",
    "                  \"west\": 16.341922243401232,\n",
    "                  \"east\": 16.41408626641795,\n",
    "                  \"south\": 47.96234024970855,\n",
    "                  \"north\": 48.00780777335356\n",
    "                }\n",
    "\n",
    "temporal_extent = [\"2023-05-01\",\"2023-09-30\"]\n",
    "\n",
    "s2_cube = preprocess_sentinel2_data(conn, spatial_extent, temporal_extent)\n",
    "\n"
   ]
  },
  {
   "cell_type": "markdown",
   "id": "492d7f93",
   "metadata": {},
   "source": [
    "Load in the model from the vito artifactory and the required dependencies and excecute the prediction job. The output is stored as a netCDF in the local directory"
   ]
  },
  {
   "cell_type": "code",
   "execution_count": 3,
   "id": "99f6a55f",
   "metadata": {
    "tags": []
   },
   "outputs": [
    {
     "name": "stdout",
     "output_type": "stream",
     "text": [
      "0:00:00 Job 'j-2404057dacf047febf6f4e4cbe5c8e8f': send 'start'\n",
      "0:00:21 Job 'j-2404057dacf047febf6f4e4cbe5c8e8f': created (progress N/A)\n",
      "0:00:26 Job 'j-2404057dacf047febf6f4e4cbe5c8e8f': created (progress N/A)\n",
      "0:00:33 Job 'j-2404057dacf047febf6f4e4cbe5c8e8f': created (progress N/A)\n",
      "0:00:41 Job 'j-2404057dacf047febf6f4e4cbe5c8e8f': created (progress N/A)\n",
      "0:00:51 Job 'j-2404057dacf047febf6f4e4cbe5c8e8f': created (progress N/A)\n",
      "0:01:03 Job 'j-2404057dacf047febf6f4e4cbe5c8e8f': created (progress N/A)\n",
      "0:01:19 Job 'j-2404057dacf047febf6f4e4cbe5c8e8f': running (progress N/A)\n",
      "0:01:38 Job 'j-2404057dacf047febf6f4e4cbe5c8e8f': running (progress N/A)\n",
      "0:02:02 Job 'j-2404057dacf047febf6f4e4cbe5c8e8f': running (progress N/A)\n",
      "0:02:33 Job 'j-2404057dacf047febf6f4e4cbe5c8e8f': running (progress N/A)\n",
      "0:03:10 Job 'j-2404057dacf047febf6f4e4cbe5c8e8f': running (progress N/A)\n",
      "0:03:57 Job 'j-2404057dacf047febf6f4e4cbe5c8e8f': running (progress N/A)\n",
      "0:04:56 Job 'j-2404057dacf047febf6f4e4cbe5c8e8f': running (progress N/A)\n",
      "0:05:57 Job 'j-2404057dacf047febf6f4e4cbe5c8e8f': running (progress N/A)\n",
      "0:06:57 Job 'j-2404057dacf047febf6f4e4cbe5c8e8f': running (progress N/A)\n",
      "0:07:58 Job 'j-2404057dacf047febf6f4e4cbe5c8e8f': finished (progress N/A)\n"
     ]
    }
   ],
   "source": [
    "# Supply the model as a URL. The model is stored in artifactory\n",
    "model_url = \"https://artifactory.vgt.vito.be/artifactory/auxdata-public/photovoltaic/rf_1_median_depth_15.onnx\"\n",
    "udf = openeo.UDF.from_file(\n",
    "    \"udf_rf_onnx.py\", \n",
    "    context={\n",
    "        \"model_url\": model_url\n",
    "    }\n",
    ")\n",
    "\n",
    "dependencies_url = \"https://artifactory.vgt.vito.be/artifactory/auxdata-public/openeo/onnx_dependencies_1.16.3.zip\"\n",
    "dependencies_name = \"onnx_deps\"\n",
    "full_url = urljoin(dependencies_url, f\"#{dependencies_name}\")\n",
    "\n",
    "job_options = {\n",
    "    \"udf-dependency-archives\": [\n",
    "        full_url\n",
    "    ],\n",
    "}\n",
    "\n",
    "\n",
    "# Reduce the bands dimesnion to a single prediction using the udf\n",
    "prediction = s2_cube.reduce_bands(reducer=udf)\n",
    "\n",
    "prediction_filtered = postprocess_inference_data(prediction, 3) \n",
    "# Post-process the data with an opening (erosion + dilation)\n",
    "\n",
    "\n",
    "prediction_job = prediction_filtered.execute_batch(\n",
    "    \"./photovoltaic_prediction_median_summer_2023.tiff\",\n",
    "    job_options=job_options,\n",
    "    title=\"photovoltaic_prediction_median_summer_2023\"\n",
    ")\n"
   ]
  },
  {
   "cell_type": "code",
   "execution_count": null,
   "id": "a483aa5a-0a32-4676-b24a-de9589b9800d",
   "metadata": {
    "tags": []
   },
   "outputs": [
    {
     "data": {
      "text/plain": [
       "<matplotlib.image.AxesImage at 0x2588490f460>"
      ]
     },
     "execution_count": 1,
     "metadata": {},
     "output_type": "execute_result"
    },
    {
     "ename": "",
     "evalue": "",
     "output_type": "error",
     "traceback": [
      "\u001b[1;31mThe Kernel crashed while executing code in the current cell or a previous cell. \n",
      "\u001b[1;31mPlease review the code in the cell(s) to identify a possible cause of the failure. \n",
      "\u001b[1;31mClick <a href='https://aka.ms/vscodeJupyterKernelCrash'>here</a> for more info. \n",
      "\u001b[1;31mView Jupyter <a href='command:jupyter.viewOutput'>log</a> for further details."
     ]
    }
   ],
   "source": [
    "import rioxarray\n",
    "rioxarray.open_rasterio(\"./photovoltaic_prediction_median_summer_2023.tiff\")[0].plot.imshow()"
   ]
  }
 ],
 "metadata": {
  "kernelspec": {
   "display_name": "Python 3 (ipykernel)",
   "language": "python",
   "name": "python3"
  },
  "language_info": {
   "codemirror_mode": {
    "name": "ipython",
    "version": 3
   },
   "file_extension": ".py",
   "mimetype": "text/x-python",
   "name": "python",
   "nbconvert_exporter": "python",
   "pygments_lexer": "ipython3",
   "version": "3.8.19"
  }
 },
 "nbformat": 4,
 "nbformat_minor": 5
}
