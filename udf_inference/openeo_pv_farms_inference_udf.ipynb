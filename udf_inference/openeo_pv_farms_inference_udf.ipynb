{
 "cells": [
  {
   "cell_type": "markdown",
   "id": "ae568901",
   "metadata": {},
   "source": [
    "<img src=\"https://avatars.githubusercontent.com/u/74911464?s=200&v=4\"\n",
    "     alt=\"OpenEO Platform logo\"\n",
    "     style=\"float: left; margin-right: 10px;\" />\n",
    "# OpenEO Platform - Photovoltaic Farms Mapping\n",
    "\n",
    "## How to use a pre-trained model for inference with onnxruntime in an openEO User Defined Function (UDF)"
   ]
  },
  {
   "cell_type": "markdown",
   "id": "e8b8d5f8-c503-4c9e-a9db-9fa81bd3d9d0",
   "metadata": {
    "tags": []
   },
   "source": [
    "Firstly we import the required libraries and  establish a connection with the openEO back-end."
   ]
  },
  {
   "cell_type": "code",
   "execution_count": 1,
   "id": "4fd8fe29",
   "metadata": {
    "tags": []
   },
   "outputs": [
    {
     "name": "stdout",
     "output_type": "stream",
     "text": [
      "Authenticated using refresh token.\n"
     ]
    }
   ],
   "source": [
    "import openeo\n",
    "from utils import preprocess_sentinel2_data, postprocess_inference_data\n",
    "from urllib.parse import urljoin\n",
    "\n",
    "# Connect and authenticate\n",
    "conn = openeo.connect(\"https://openeo.cloud/\").authenticate_oidc()\n",
    "# Alternatively you can also use the Copernicus Data Space Ecosystem (CDSE)\n",
    "# conn = openeo.connect(\"https://openeo.dataspace.copernicus.eu/\").authenticate_oidc()"
   ]
  },
  {
   "cell_type": "markdown",
   "id": "01e7cb3d",
   "metadata": {},
   "source": [
    "A workflow for processing Sentinel-2 Level-2A earth observation data using openEO in orden to obtain the desired data, compatible with the classifier."
   ]
  },
  {
   "cell_type": "code",
   "execution_count": 2,
   "id": "be278dd3-b961-4340-a41b-bdc6ca6a4227",
   "metadata": {
    "tags": []
   },
   "outputs": [],
   "source": [
    "spatial_extent={\n",
    "            \"east\": 16.414,\n",
    "            \"north\": 48.008,\n",
    "            \"south\": 47.962,\n",
    "            \"west\": 16.342\n",
    "    },\n",
    "temporal_extent = [\"2023-05-01\",\"2023-09-30\"]\n",
    "\n",
    "s2_cube = preprocess_sentinel2_data(conn, spatial_extent, temporal_extent)"
   ]
  },
  {
   "cell_type": "markdown",
   "id": "492d7f93",
   "metadata": {},
   "source": [
    "Load in the model from the VITO artifactory and the required dependencies and excecute the prediction job.\n",
    "\n",
    "The output is stored as a geoTIFF in the local directory."
   ]
  },
  {
   "cell_type": "code",
   "execution_count": null,
   "id": "99f6a55f",
   "metadata": {
    "tags": []
   },
   "outputs": [],
   "source": [
    "# Supply the model as a URL. The model is stored in artifactory\n",
    "model_url = \"https://artifactory.vgt.vito.be/artifactory/auxdata-public/photovoltaic/rf_1_median_depth_15.onnx\"\n",
    "udf = openeo.UDF.from_file(\n",
    "    \"udf_rf_onnx.py\", \n",
    "    context={\n",
    "        \"model_url\": model_url\n",
    "    }\n",
    ")\n",
    "\n",
    "dependencies_url = \"https://artifactory.vgt.vito.be/artifactory/auxdata-public/openeo/onnx_dependencies_1.16.3.zip\"\n",
    "dependencies_name = \"onnx_deps\"\n",
    "full_url = urljoin(dependencies_url, f\"#{dependencies_name}\")\n",
    "\n",
    "job_options = {\n",
    "    \"udf-dependency-archives\": [\n",
    "        full_url\n",
    "    ],\n",
    "}\n",
    "\n",
    "\n",
    "# Reduce the bands dimesnion to a single prediction using the udf\n",
    "prediction = s2_cube.reduce_bands(reducer=udf)\n",
    "\n",
    "# Post process the result with opening operation (erosion + dilation)\n",
    "prediction_filtered = postprocess_inference_data(prediction, 3) \n",
    "\n",
    "prediction_job = prediction_filtered.execute_batch(\n",
    "    \"./photovoltaic_prediction_median_summer_2023.tiff\",\n",
    "    job_options=job_options,\n",
    "    title=\"photovoltaic_prediction_median_summer_2023\"\n",
    ")"
   ]
  }
 ],
 "metadata": {
  "kernelspec": {
   "display_name": "Python 3 (ipykernel)",
   "language": "python",
   "name": "python3"
  },
  "language_info": {
   "codemirror_mode": {
    "name": "ipython",
    "version": 3
   },
   "file_extension": ".py",
   "mimetype": "text/x-python",
   "name": "python",
   "nbconvert_exporter": "python",
   "pygments_lexer": "ipython3",
   "version": "3.10.12"
  }
 },
 "nbformat": 4,
 "nbformat_minor": 5
}
